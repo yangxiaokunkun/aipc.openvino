{
 "cells": [
  {
   "attachments": {},
   "cell_type": "markdown",
   "id": "0a465fbf",
   "metadata": {},
   "source": [
    "# Lab2. Latent Consistency Model using Optimum-Intel OpenVINO"
   ]
  },
  {
   "attachments": {},
   "cell_type": "markdown",
   "id": "7fedcc5e",
   "metadata": {},
   "source": [
    "### Select inference device for text-to-image generation"
   ]
  },
  {
   "cell_type": "code",
   "execution_count": 1,
   "id": "fb1ed573",
   "metadata": {},
   "outputs": [
    {
     "data": {
      "application/vnd.jupyter.widget-view+json": {
       "model_id": "6220ccb7e1304e91a6243c2f3d185a53",
       "version_major": 2,
       "version_minor": 0
      },
      "text/plain": [
       "Dropdown(description='Device:', index=3, options=('CPU', 'GPU', 'NPU', 'AUTO'), value='AUTO')"
      ]
     },
     "execution_count": 1,
     "metadata": {},
     "output_type": "execute_result"
    }
   ],
   "source": [
    "from utils.notebook_utils import device_widget\n",
    "\n",
    "device = device_widget()\n",
    "\n",
    "device"
   ]
  },
  {
   "attachments": {},
   "cell_type": "markdown",
   "id": "7860bb7f",
   "metadata": {},
   "source": [
    "### Running inference using Optimum Intel `OVLatentConsistencyModelPipeline`"
   ]
  },
  {
   "cell_type": "code",
   "execution_count": 2,
   "id": "f8578ffd",
   "metadata": {},
   "outputs": [
    {
     "name": "stderr",
     "output_type": "stream",
     "text": [
      "You have disabled the safety checker for <class 'optimum.intel.openvino.modeling_diffusion.OVLatentConsistencyModelPipeline'> by passing `safety_checker=None`. Ensure that you abide to the conditions of the Stable Diffusion license and do not expose unfiltered results in services or applications open to the public. Both the diffusers team and Hugging Face strongly recommend to keep the safety filter enabled in all public facing circumstances, disabling it only for use-cases that involve analyzing network behavior or auditing its results. For more information, please have a look at https://github.com/huggingface/diffusers/pull/254 .\n"
     ]
    },
    {
     "data": {
      "text/plain": [
       "OVLatentConsistencyModelPipeline {\n",
       "  \"_class_name\": \"OVLatentConsistencyModelPipeline\",\n",
       "  \"_diffusers_version\": \"0.30.3\",\n",
       "  \"_name_or_path\": \"OpenVINO/LCM_dreamshaper_v7-int8-ov\",\n",
       "  \"feature_extractor\": [\n",
       "    \"transformers\",\n",
       "    \"CLIPImageProcessor\"\n",
       "  ],\n",
       "  \"image_encoder\": [\n",
       "    null,\n",
       "    null\n",
       "  ],\n",
       "  \"requires_safety_checker\": true,\n",
       "  \"safety_checker\": [\n",
       "    null,\n",
       "    null\n",
       "  ],\n",
       "  \"scheduler\": [\n",
       "    \"diffusers\",\n",
       "    \"LCMScheduler\"\n",
       "  ],\n",
       "  \"text_encoder\": [\n",
       "    \"optimum.intel.openvino.modeling_diffusion\",\n",
       "    \"OVModelTextEncoder\"\n",
       "  ],\n",
       "  \"tokenizer\": [\n",
       "    \"transformers\",\n",
       "    \"CLIPTokenizer\"\n",
       "  ],\n",
       "  \"unet\": [\n",
       "    \"optimum.intel.openvino.modeling_diffusion\",\n",
       "    \"OVModelUnet\"\n",
       "  ],\n",
       "  \"vae\": [\n",
       "    \"optimum.intel.openvino.modeling_diffusion\",\n",
       "    \"OVModelVae\"\n",
       "  ]\n",
       "}"
      ]
     },
     "execution_count": 2,
     "metadata": {},
     "output_type": "execute_result"
    }
   ],
   "source": [
    "from optimum.intel import OVLatentConsistencyModelPipeline\n",
    "from pathlib import Path\n",
    "\n",
    "if not Path(\"./model/lcm\").exists():\n",
    "    ov_pipeline = OVLatentConsistencyModelPipeline.from_pretrained(\"OpenVINO/LCM_Dreamshaper_v7-int8-ov\", height=512, width=512, compile=False)\n",
    "    ov_pipeline.save_pretrained(\"./model/lcm\")\n",
    "else:\n",
    "    ov_pipeline = OVLatentConsistencyModelPipeline.from_pretrained(\"./model/lcm\", export=False, compile=False)\n",
    "\n",
    "ov_pipeline.reshape(batch_size=1, height=512, width=512, num_images_per_prompt=1)"
   ]
  },
  {
   "cell_type": "code",
   "execution_count": 6,
   "id": "2afd5738",
   "metadata": {
    "scrolled": true
   },
   "outputs": [],
   "source": [
    "ov_pipeline.to(device.value)\n",
    "ov_pipeline.compile()"
   ]
  },
  {
   "cell_type": "code",
   "execution_count": null,
   "id": "cd78df50-c08d-4b1e-98e9-5b7721ca20e0",
   "metadata": {},
   "outputs": [
    {
     "data": {
      "application/vnd.jupyter.widget-view+json": {
       "model_id": "562cb3446fe64b5da6ca73604da94baf",
       "version_major": 2,
       "version_minor": 0
      },
      "text/plain": [
       "  0%|          | 0/4 [00:00<?, ?it/s]"
      ]
     },
     "metadata": {},
     "output_type": "display_data"
    }
   ],
   "source": [
    "prompt = \"A cute squirrel in the forest, portrait, 8k\"\n",
    "\n",
    "image_ov = ov_pipeline(prompt=prompt, num_inference_steps=4, guidance_scale=8.0, height=512, width=512).images[0]\n",
    "image_ov.save(\"image_opt.png\")\n",
    "image_ov"
   ]
  }
 ],
 "metadata": {
  "kernelspec": {
   "display_name": "Python 3 (ipykernel)",
   "language": "python",
   "name": "python3"
  },
  "language_info": {
   "codemirror_mode": {
    "name": "ipython",
    "version": 3
   },
   "file_extension": ".py",
   "mimetype": "text/x-python",
   "name": "python",
   "nbconvert_exporter": "python",
   "pygments_lexer": "ipython3",
   "version": "3.10.14"
  },
  "openvino_notebooks": {
   "imageUrl": "https://github.com/openvinotoolkit/openvino_notebooks/blob/latest/notebooks/stable-diffusion-v2/stable-diffusion-v2-optimum-demo.png?raw=true",
   "tags": {
    "categories": [
     "Model Demos",
     "AI Trends"
    ],
    "libraries": [],
    "other": [],
    "tasks": [
     "Text-to-Image"
    ]
   }
  },
  "widgets": {
   "application/vnd.jupyter.widget-state+json": {
    "state": {},
    "version_major": 2,
    "version_minor": 0
   }
  }
 },
 "nbformat": 4,
 "nbformat_minor": 5
}
